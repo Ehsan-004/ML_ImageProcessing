{
 "cells": [
  {
   "cell_type": "markdown",
   "id": "d998ee37-27f7-4ccd-ac30-154a4828be1b",
   "metadata": {},
   "source": [
    "# First step: opening an image #"
   ]
  },
  {
   "cell_type": "code",
   "execution_count": null,
   "id": "4a121e79-55ba-40ad-b26c-a9d58b042c60",
   "metadata": {},
   "outputs": [],
   "source": [
    "import cv2"
   ]
  },
  {
   "cell_type": "markdown",
   "id": "e2180e0e-7da9-4fe3-a544-e4e32f7d52ed",
   "metadata": {},
   "source": [
    "### imread method reads the image and returns it as an numpy.ndarray ###"
   ]
  },
  {
   "cell_type": "code",
   "execution_count": null,
   "id": "3e0fa7e5-79fc-494b-8572-9c78bef6cf7d",
   "metadata": {},
   "outputs": [],
   "source": [
    "img = cv2.imread('images/image.jpeg')"
   ]
  },
  {
   "cell_type": "code",
   "execution_count": 19,
   "id": "1bcdbb39-15f7-4d44-b321-c1e24146bccf",
   "metadata": {},
   "outputs": [],
   "source": [
    "cv2.imshow(\"image\", img)\n",
    "cv2.waitKey(0)\n",
    "cv2.destroyAllWindows()"
   ]
  }
 ],
 "metadata": {
  "kernelspec": {
   "display_name": "Python 3 (ipykernel)",
   "language": "python",
   "name": "python3"
  },
  "language_info": {
   "codemirror_mode": {
    "name": "ipython",
    "version": 3
   },
   "file_extension": ".py",
   "mimetype": "text/x-python",
   "name": "python",
   "nbconvert_exporter": "python",
   "pygments_lexer": "ipython3",
   "version": "3.12.0"
  }
 },
 "nbformat": 4,
 "nbformat_minor": 5
}
