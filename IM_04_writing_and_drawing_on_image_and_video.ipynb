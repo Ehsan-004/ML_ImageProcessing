{
 "cells": [
  {
   "cell_type": "code",
   "execution_count": 6,
   "id": "4d82da2d-192c-4656-9ef9-842a69c1123d",
   "metadata": {},
   "outputs": [],
   "source": [
    "import cv2\n",
    "import numpy as np"
   ]
  },
  {
   "cell_type": "code",
   "execution_count": 8,
   "id": "9cea1829-ea00-45ab-a6c3-1d44ff204a3e",
   "metadata": {},
   "outputs": [],
   "source": [
    "cap = cv2.VideoCapture(0)\n",
    "\n",
    "while(1):\n",
    "    ret, frame = cap.read()\n",
    "\n",
    "    cv2.line(frame, (100, 200), (200, 400), (255, 0, 0), 10)  # draw a line\n",
    "    cv2.rectangle(frame, (100,200), (200, 300), (0, 0, 255), 2)  # draw a rectangle\n",
    "    cv2.circle(frame, (200, 200), 70, (0, 120, 255), 2)  # draw a circle\n",
    "    points = np.array([[10,120], [140, 170], [220,20], [140,500]])  \n",
    "    cv2.polylines(frame, [points], True, (100, 100, 100), 5)  # draw an N line shape\n",
    "\n",
    "    font = cv2.FONT_HERSHEY_SCRIPT_COMPLEX\n",
    "    cv2.putText(frame, 'hello world', (100, 200), font, 1, (100, 100, 250))  # write a text\n",
    "    \n",
    "    cv2.imshow(\"video\", frame)\n",
    "    if cv2.waitKey(1) & 0xFF == ord('q'):\n",
    "        break\n",
    "\n",
    "cap.release()\n",
    "cv2.destroyAllWindows()"
   ]
  }
 ],
 "metadata": {
  "kernelspec": {
   "display_name": "Python 3 (ipykernel)",
   "language": "python",
   "name": "python3"
  },
  "language_info": {
   "codemirror_mode": {
    "name": "ipython",
    "version": 3
   },
   "file_extension": ".py",
   "mimetype": "text/x-python",
   "name": "python",
   "nbconvert_exporter": "python",
   "pygments_lexer": "ipython3",
   "version": "3.12.0"
  }
 },
 "nbformat": 4,
 "nbformat_minor": 5
}
