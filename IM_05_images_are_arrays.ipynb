{
 "cells": [
  {
   "cell_type": "code",
   "execution_count": 2,
   "id": "08115dfe-1243-4b45-b9c3-d613f50836a2",
   "metadata": {},
   "outputs": [],
   "source": [
    "import cv2"
   ]
  },
  {
   "cell_type": "code",
   "execution_count": 3,
   "id": "1ae8ff9d-acc7-4dff-8970-0f4274ba1cb9",
   "metadata": {},
   "outputs": [
    {
     "name": "stdout",
     "output_type": "stream",
     "text": [
      "[[[ 13  12   0]\n",
      "  [  3   3   0]\n",
      "  [  0   0  10]\n",
      "  [ 33  68  88]\n",
      "  [ 75 171 201]]\n",
      "\n",
      " [[ 12  12   0]\n",
      "  [  6   6   0]\n",
      "  [  8  11  16]\n",
      "  [  0   0  14]\n",
      "  [  4  78 102]]\n",
      "\n",
      " [[  7   7   1]\n",
      "  [ 11  12   8]\n",
      "  [  0   1   1]\n",
      "  [  0  11  17]\n",
      "  [  0   3  14]]\n",
      "\n",
      " [[  7   9   3]\n",
      "  [  2   4   0]\n",
      "  [  7   9   3]\n",
      "  [  2   5   3]\n",
      "  [  0   4   5]]\n",
      "\n",
      " [[  6  12   1]\n",
      "  [  1   7   0]\n",
      "  [  9  11   0]\n",
      "  [ 15  14   4]\n",
      "  [ 11   8   3]]]\n"
     ]
    }
   ],
   "source": [
    "img = cv2.imread('images/image.jpeg')\n",
    "\n",
    "print(img[0:5, 0:5])  # See that an image is a 3d array"
   ]
  },
  {
   "cell_type": "code",
   "execution_count": 7,
   "id": "6c96e754-aa4e-4308-b461-3e7806c599e4",
   "metadata": {},
   "outputs": [],
   "source": [
    "new_img = img[0:300, 0:300]\n",
    "cv2.imshow(\"new image\", new_img)\n",
    "cv2.waitKey(0)\n",
    "cv2.destroyAllWindows()"
   ]
  },
  {
   "cell_type": "code",
   "execution_count": 8,
   "id": "5f9d8781-7e3c-4b1c-b155-4b4ed0161c3e",
   "metadata": {},
   "outputs": [],
   "source": [
    "img[0:100, 0:100] = img[100:200, 200:300]  # array values can be replaced, visuall the result!\n",
    "cv2.imshow(\"image\", img)\n",
    "cv2.waitKey(0)\n",
    "cv2.destroyAllWindows()"
   ]
  }
 ],
 "metadata": {
  "kernelspec": {
   "display_name": "Python 3 (ipykernel)",
   "language": "python",
   "name": "python3"
  },
  "language_info": {
   "codemirror_mode": {
    "name": "ipython",
    "version": 3
   },
   "file_extension": ".py",
   "mimetype": "text/x-python",
   "name": "python",
   "nbconvert_exporter": "python",
   "pygments_lexer": "ipython3",
   "version": "3.12.0"
  }
 },
 "nbformat": 4,
 "nbformat_minor": 5
}
