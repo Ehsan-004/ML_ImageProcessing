{
 "cells": [
  {
   "cell_type": "code",
   "execution_count": 1,
   "id": "ef339b3b-3f14-4ec6-b45a-70dd1b40081d",
   "metadata": {},
   "outputs": [],
   "source": [
    "import cv2"
   ]
  },
  {
   "cell_type": "code",
   "execution_count": 2,
   "id": "032dcbad-740e-4208-9324-ba8c2ad9eb9f",
   "metadata": {},
   "outputs": [],
   "source": [
    "img1 = cv2.imread('images/image.jpeg')\n",
    "img2 = cv2.imread('images/image2.jpg')"
   ]
  },
  {
   "cell_type": "code",
   "execution_count": 5,
   "id": "8a51f3c2-0264-4f6b-8a06-11d74678a118",
   "metadata": {},
   "outputs": [],
   "source": [
    "# Images must have the same size\n",
    "cv2.imshow(\"image 1\", img1)\n",
    "cv2.imshow(\"image 2\", img2)\n",
    "\n",
    "cv2.waitKey(0)\n",
    "cv2.destroyAllWindows()"
   ]
  },
  {
   "cell_type": "code",
   "execution_count": 7,
   "id": "2929ef08-f1c0-4155-a57c-2dbea54d2f3a",
   "metadata": {},
   "outputs": [],
   "source": [
    "# Adding images by +\n",
    "img3 = img1 + img2\n",
    "cv2.imshow(\"img1 + img2\", img3)\n",
    "\n",
    "cv2.waitKey(0)\n",
    "cv2.destroyAllWindows()\n",
    "# You see that both images arrays are added together.\n",
    "# you can also subtract them from each other!\n",
    "# With addWeighted method we can specify the effect of each image in final image:"
   ]
  },
  {
   "cell_type": "code",
   "execution_count": 10,
   "id": "f0e637f2-c39f-43ed-8836-7b165b11d065",
   "metadata": {},
   "outputs": [],
   "source": [
    "img4 = cv2.addWeighted(img1, 0.3, img2, 0.7, gamma=0)\n",
    "# This method returns a better result.\n",
    "cv2.imshow(\"img4\", img4)\n",
    "\n",
    "cv2.waitKey(0)\n",
    "cv2.destroyAllWindows()"
   ]
  }
 ],
 "metadata": {
  "kernelspec": {
   "display_name": "Python 3 (ipykernel)",
   "language": "python",
   "name": "python3"
  },
  "language_info": {
   "codemirror_mode": {
    "name": "ipython",
    "version": 3
   },
   "file_extension": ".py",
   "mimetype": "text/x-python",
   "name": "python",
   "nbconvert_exporter": "python",
   "pygments_lexer": "ipython3",
   "version": "3.12.0"
  }
 },
 "nbformat": 4,
 "nbformat_minor": 5
}
