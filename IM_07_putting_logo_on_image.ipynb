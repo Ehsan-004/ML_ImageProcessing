{
 "cells": [
  {
   "cell_type": "code",
   "execution_count": 8,
   "id": "f9e57004-e914-4e12-9382-4b50b9edfd2f",
   "metadata": {},
   "outputs": [],
   "source": [
    "import cv2"
   ]
  },
  {
   "cell_type": "code",
   "execution_count": 14,
   "id": "53ff7d33-2471-4bbd-ae05-73f1d7a82831",
   "metadata": {},
   "outputs": [
    {
     "name": "stdout",
     "output_type": "stream",
     "text": [
      "[[[255 255 255]\n",
      "  [255 255 255]\n",
      "  [255 255 255]\n",
      "  ...\n",
      "  [255 255 255]\n",
      "  [255 255 255]\n",
      "  [255 255 255]]\n",
      "\n",
      " [[255 255 255]\n",
      "  [255 255 255]\n",
      "  [255 255 255]\n",
      "  ...\n",
      "  [255 255 255]\n",
      "  [255 255 255]\n",
      "  [255 255 255]]\n",
      "\n",
      " [[255 255 255]\n",
      "  [255 255 255]\n",
      "  [255 255 255]\n",
      "  ...\n",
      "  [255 255 255]\n",
      "  [255 255 255]\n",
      "  [255 255 255]]\n",
      "\n",
      " ...\n",
      "\n",
      " [[255 255 255]\n",
      "  [255 255 255]\n",
      "  [255 255 255]\n",
      "  ...\n",
      "  [255 255 255]\n",
      "  [255 255 255]\n",
      "  [255 255 255]]\n",
      "\n",
      " [[255 255 255]\n",
      "  [255 255 255]\n",
      "  [255 255 255]\n",
      "  ...\n",
      "  [255 255 255]\n",
      "  [255 255 255]\n",
      "  [255 255 255]]\n",
      "\n",
      " [[255 255 255]\n",
      "  [255 255 255]\n",
      "  [255 255 255]\n",
      "  ...\n",
      "  [255 255 255]\n",
      "  [255 255 255]\n",
      "  [255 255 255]]]\n"
     ]
    }
   ],
   "source": [
    "image = cv2.imread(\"images/image.jpeg\")\n",
    "logo = cv2.imread(\"images/logo.png\")\n",
    "\n",
    "cv2.imshow(\"image\", image)\n",
    "cv2.imshow(\"logo\", logo)\n",
    "\n",
    "cv2.waitKey(0)\n",
    "cv2.destroyAllWindows()"
   ]
  },
  {
   "cell_type": "code",
   "execution_count": 12,
   "id": "008e6bbd-e8e6-42a6-99e8-ba8337f9c71c",
   "metadata": {},
   "outputs": [],
   "source": [
    "logo_gray = cv2.cvtColor(logo, cv2.COLOR_BGR2GRAY)\n",
    "ret, thresh_logo = cv2.threshold(logo_gray, 120, 255, cv2.THRESH_BINARY_INV)\n",
    "# In threshold image, logo part will be white and other parts will be black.\n",
    "# Actually the parts of image which have value more than 120, will be counted as 1 and others 0.\n",
    "# 1 means True and 0 is False.\n",
    "thresh_logo_inv = cv2.bitwise_not(thresh_logo)  # logo parts are 1 (True)\n",
    "\n",
    "cv2.imshow(\"threshold logo\", thresh_logo)\n",
    "cv2.imshow(\"threshold logo invert\", thresh_logo_inv)\n",
    "\n",
    "cv2.waitKey(0)\n",
    "cv2.destroyAllWindows()"
   ]
  },
  {
   "cell_type": "code",
   "execution_count": 11,
   "id": "c8160547-9d0f-4aaf-ac5e-a56ea3f2f033",
   "metadata": {},
   "outputs": [],
   "source": [
    "rows, columns, channels = logo.shape\n",
    "# shape of an ndarray in numpy determines: (first demension size, second demension size, third demenstion size , ...)\n",
    "# which are the same as rows, columns and channels in an image. channels (which is 3 here) shows impact of green red and blue.\n",
    "# we cut the part of image to be filled with logo.\n",
    "image_part = image[0:rows, 0:columns]\n",
    "\n",
    "cv2.imshow(\"image part\", image_part)\n",
    "\n",
    "cv2.waitKey(0)\n",
    "cv2.destroyAllWindows()"
   ]
  },
  {
   "cell_type": "code",
   "execution_count": 10,
   "id": "16e2ae6b-2796-4b46-97d3-c80f7355bf6f",
   "metadata": {},
   "outputs": [],
   "source": [
    "logo_white_bg = cv2.bitwise_and(logo, logo, mask=thresh_logo)  # Bg of logo will be white\n",
    "\n",
    "empty_part = cv2.bitwise_and(image_part, image_part, mask=thresh_logo_inv)\n",
    "\n",
    "cv2.imshow(\"logo no bg\", logo_white_bg)\n",
    "cv2.imshow(\"image no logo\", empty_part)\n",
    "cv2.waitKey(0)\n",
    "cv2.destroyAllWindows()\n",
    "# We have the part of image with a logo shape impty inside it which is filled with black (1).\n",
    "# Also the logo has a white background (0)\n",
    "# If we create a new image which has logo_white_bg AND empty_part, we have the part whit logo on it!"
   ]
  },
  {
   "cell_type": "code",
   "execution_count": 13,
   "id": "dfc5c19c-ef65-4b8e-bd14-886db12f8dbb",
   "metadata": {},
   "outputs": [],
   "source": [
    "part_result = cv2.add(logo_white_bg, empty_part)\n",
    "cv2.imshow(\"part with logo\", part_result)\n",
    "cv2.waitKey(0)\n",
    "cv2.destroyAllWindows()"
   ]
  },
  {
   "cell_type": "code",
   "execution_count": 14,
   "id": "366eccfa-4512-421c-8dec-5f1bce768871",
   "metadata": {},
   "outputs": [],
   "source": [
    "# Now it's time to put the cought part back to the image\n",
    "image[0:rows, 0:columns] = part_result\n",
    "cv2.imshow(\"image with logo\", image)\n",
    "cv2.waitKey(0)\n",
    "cv2.destroyAllWindows()"
   ]
  }
 ],
 "metadata": {
  "kernelspec": {
   "display_name": "Python 3 (ipykernel)",
   "language": "python",
   "name": "python3"
  },
  "language_info": {
   "codemirror_mode": {
    "name": "ipython",
    "version": 3
   },
   "file_extension": ".py",
   "mimetype": "text/x-python",
   "name": "python",
   "nbconvert_exporter": "python",
   "pygments_lexer": "ipython3",
   "version": "3.12.7"
  }
 },
 "nbformat": 4,
 "nbformat_minor": 5
}
