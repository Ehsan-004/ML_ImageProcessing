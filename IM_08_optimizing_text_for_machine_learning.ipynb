{
 "cells": [
  {
   "cell_type": "code",
   "execution_count": null,
   "id": "f97844c6-057e-4370-a125-d53ece3c514f",
   "metadata": {},
   "outputs": [],
   "source": [
    "import cv2"
   ]
  },
  {
   "cell_type": "code",
   "execution_count": null,
   "id": "baca95da-0f23-4c4a-be35-e16055704f3a",
   "metadata": {},
   "outputs": [],
   "source": [
    "image = cv2.imread(\"images/image_text2.jpg\")\n",
    "\n",
    "# This image is not suitable for text detecting. We should prepare it.\n",
    "cv2.imshow(\"text image\", image)\n",
    "\n",
    "cv2.waitKey(0)\n",
    "cv2.destroyAllWindows()"
   ]
  },
  {
   "cell_type": "code",
   "execution_count": null,
   "id": "23fadcc2-1948-48fb-927a-e2d43d800e36",
   "metadata": {},
   "outputs": [],
   "source": [
    "image_gray = cv2.cvtColor(image, cv2.COLOR_BGR2GRAY)\n",
    "ret, thresh_image = cv2.threshold(image, 68, 255, cv2.THRESH_BINARY)\n",
    "\n",
    "cv2.imshow(\"thresh_image\", thresh_image)\n",
    "\n",
    "cv2.waitKey(0)\n",
    "cv2.destroyAllWindows()\n",
    "# As you see the result is not that good, because treshold uses one limit value for all parts of image.\n",
    "# We can use adaptiveThreshold that receives a block size and cuts image to several parts"
   ]
  },
  {
   "cell_type": "code",
   "execution_count": null,
   "id": "3fd0b4af-ed16-4498-ba3b-a7c1966aa7c6",
   "metadata": {},
   "outputs": [],
   "source": [
    "adapted_thresh = cv2.adaptiveThreshold(\n",
    "    image_gray,\n",
    "    300, \n",
    "    cv2.ADAPTIVE_THRESH_GAUSSIAN_C, \n",
    "    cv2.THRESH_BINARY, \n",
    "    21, \n",
    "    2\n",
    "    )\n",
    "\n",
    "cv2.imshow(\"adapted_thresh_image\", adapted_thresh)\n",
    "\n",
    "cv2.waitKey(0)\n",
    "cv2.destroyAllWindows()\n",
    "#This is the best result I could get! you can now give this image to a text detection model to detect the text!"
   ]
  }
 ],
 "metadata": {
  "kernelspec": {
   "display_name": "Python 3 (ipykernel)",
   "language": "python",
   "name": "python3"
  },
  "language_info": {
   "codemirror_mode": {
    "name": "ipython",
    "version": 3
   },
   "file_extension": ".py",
   "mimetype": "text/x-python",
   "name": "python",
   "nbconvert_exporter": "python",
   "pygments_lexer": "ipython3",
   "version": "3.12.0"
  }
 },
 "nbformat": 4,
 "nbformat_minor": 5
}
