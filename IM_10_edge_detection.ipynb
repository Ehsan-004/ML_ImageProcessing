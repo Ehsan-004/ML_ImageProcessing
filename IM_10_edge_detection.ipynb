{
 "cells": [
  {
   "cell_type": "code",
   "execution_count": 1,
   "id": "eea1309f-d081-4da0-b3e8-4554c92a391f",
   "metadata": {},
   "outputs": [],
   "source": [
    "import cv2\n",
    "import numpy as np"
   ]
  },
  {
   "cell_type": "code",
   "execution_count": 2,
   "id": "fbf49601-799c-4dfe-abfc-40f2e76a5a4f",
   "metadata": {},
   "outputs": [],
   "source": [
    "cap = cv2.VideoCapture(0)\n",
    "\n",
    "while(1):\n",
    "    _, frame = cap.read()\n",
    "\n",
    "    laplacian_frame = cv2.Laplacian(frame, cv2.CV_8U)\n",
    "    sobel_x = cv2.Sobel(frame, cv2.CV_8U, 1, 0, ksize=5)  # The numbers are x,y axis\n",
    "    sobel_y = cv2.Sobel(frame, cv2.CV_8U, 0, 1, ksize=5)\n",
    "    canny = cv2.Canny(frame, 150, 200)\n",
    "\n",
    "    cv2.imshow('original', frame)\n",
    "    cv2.imshow('laplacian', laplacian_frame)\n",
    "    cv2.imshow('sobel_x', sobel_x)\n",
    "    cv2.imshow('sobel_y', sobel_y)\n",
    "    cv2.imshow('canny', canny)\n",
    "    \n",
    "\n",
    "    if (cv2.waitKey(1) & 0xFF == ord('q')):\n",
    "        break\n",
    "\n",
    "cv2.destroyAllWindows()\n",
    "cap.release()\n",
    "    "
   ]
  }
 ],
 "metadata": {
  "kernelspec": {
   "display_name": "Python 3 (ipykernel)",
   "language": "python",
   "name": "python3"
  },
  "language_info": {
   "codemirror_mode": {
    "name": "ipython",
    "version": 3
   },
   "file_extension": ".py",
   "mimetype": "text/x-python",
   "name": "python",
   "nbconvert_exporter": "python",
   "pygments_lexer": "ipython3",
   "version": "3.12.0"
  }
 },
 "nbformat": 4,
 "nbformat_minor": 5
}
