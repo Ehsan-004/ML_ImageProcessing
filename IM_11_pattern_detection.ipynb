{
 "cells": [
  {
   "cell_type": "code",
   "execution_count": 1,
   "id": "c90a9492-005b-4c53-980e-dd3fed47bab9",
   "metadata": {},
   "outputs": [],
   "source": [
    "import cv2\n",
    "import numpy as np"
   ]
  },
  {
   "cell_type": "code",
   "execution_count": 31,
   "id": "bfc39d79-3696-4f28-bbc7-a7629667536f",
   "metadata": {},
   "outputs": [],
   "source": [
    "img_bgr = cv2.imread(\"images/pattern_detection/image.jpg\")\n",
    "img_gray = cv2.cvtColor(img_bgr, cv2.COLOR_BGR2GRAY)\n",
    "\n",
    "img_template = cv2.imread(\"images/pattern_detection/patern.jpg\")\n",
    "w, h, _ = img_template.shape\n",
    "\n",
    "res = cv2.matchTemplate(img_bgr, img_template, cv2.TM_CCOEFF_NORMED)\n",
    "threshold = 0.8\n",
    "\n",
    "loc = np.where(res >= threshold)\n",
    "\n",
    "for pt in list(zip(*loc[::-1])):\n",
    "    cv2.rectangle(img_bgr, pt, (pt[0]+w, pt[1]+h), (0, 0, 255), 1)\n",
    "\n",
    "screen_res = 800, 600 \n",
    "scale_width = screen_res[0] / img_bgr.shape[1] \n",
    "scale_height = screen_res[1] / img_bgr.shape[0] \n",
    "scale = min(scale_width, scale_height) \n",
    "window_width = int(img_bgr.shape[1] * scale) \n",
    "window_height = int(img_bgr.shape[0] * scale) \n",
    "resized_img = cv2.resize(img_bgr, (window_width, window_height)) \n",
    "cv2.imshow(\"Detected Pattern\", resized_img)\n",
    "\n",
    "cv2.waitKey(0)\n",
    "cv2.destroyAllWindows()"
   ]
  }
 ],
 "metadata": {
  "kernelspec": {
   "display_name": "Python 3 (ipykernel)",
   "language": "python",
   "name": "python3"
  },
  "language_info": {
   "codemirror_mode": {
    "name": "ipython",
    "version": 3
   },
   "file_extension": ".py",
   "mimetype": "text/x-python",
   "name": "python",
   "nbconvert_exporter": "python",
   "pygments_lexer": "ipython3",
   "version": "3.12.7"
  }
 },
 "nbformat": 4,
 "nbformat_minor": 5
}
