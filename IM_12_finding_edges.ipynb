{
 "cells": [
  {
   "cell_type": "code",
   "execution_count": 1,
   "id": "f4bbefad-5fd5-4340-a4cd-b97798b1fd7f",
   "metadata": {},
   "outputs": [],
   "source": [
    "import numpy as np\n",
    "import cv2"
   ]
  },
  {
   "cell_type": "code",
   "execution_count": 2,
   "id": "1c71c178-8f88-474a-bc68-028ad9e6078e",
   "metadata": {},
   "outputs": [
    {
     "name": "stderr",
     "output_type": "stream",
     "text": [
      "C:\\Users\\SADAF COMPUTER\\AppData\\Local\\Temp\\ipykernel_10396\\4038178154.py:6: DeprecationWarning: `np.int0` is a deprecated alias for `np.intp`.  (Deprecated NumPy 1.24)\n",
      "  corners = np.int0(corners)\n"
     ]
    }
   ],
   "source": [
    "img = cv2.imread('images/finding_edges/image.jpg')\n",
    "gray = cv2.cvtColor(img, cv2.COLOR_BGR2GRAY)\n",
    "gray = np.float32(gray)\n",
    "\n",
    "corners = cv2.goodFeaturesToTrack(gray, 100, 0.01, 10)\n",
    "corners = np.int0(corners)\n",
    "# image, num of points, quality, minimum distance between points\n",
    "\n",
    "for corner in corners:\n",
    "    x, y = corner.ravel()\n",
    "    cv2.circle(img, (x,y), 3, (0, 255, 255), 10)\n",
    "\n",
    "screen_res = 800, 600 \n",
    "scale_width = screen_res[0] / img.shape[1] \n",
    "scale_height = screen_res[1] / img.shape[0] \n",
    "scale = min(scale_width, scale_height) \n",
    "window_width = int(img.shape[1] * scale) \n",
    "window_height = int(img.shape[0] * scale) \n",
    "resized_img = cv2.resize(img, (window_width, window_height)) \n",
    "\n",
    "cv2.imshow(\"corners\", resized_img)\n",
    "cv2.waitKey(0)\n",
    "cv2.destroyAllWindows()"
   ]
  }
 ],
 "metadata": {
  "kernelspec": {
   "display_name": "Python 3 (ipykernel)",
   "language": "python",
   "name": "python3"
  },
  "language_info": {
   "codemirror_mode": {
    "name": "ipython",
    "version": 3
   },
   "file_extension": ".py",
   "mimetype": "text/x-python",
   "name": "python",
   "nbconvert_exporter": "python",
   "pygments_lexer": "ipython3",
   "version": "3.12.7"
  }
 },
 "nbformat": 4,
 "nbformat_minor": 5
}
