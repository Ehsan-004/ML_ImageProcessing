{
 "cells": [
  {
   "cell_type": "code",
   "execution_count": 1,
   "id": "49ede94c-8e61-4b2b-b942-1b114a910aef",
   "metadata": {},
   "outputs": [],
   "source": [
    "import cv2"
   ]
  },
  {
   "cell_type": "code",
   "execution_count": 3,
   "id": "831aef48-576d-40b0-a9a5-65f2394d82d9",
   "metadata": {},
   "outputs": [],
   "source": [
    "cap = cv2.VideoCapture(0)\n",
    "fg = cv2.createBackgroundSubtractorMOG2()\n",
    "\n",
    "while True:\n",
    "    _, frame = cap.read()\n",
    "    fmask = fg.apply(frame)\n",
    "\n",
    "    com = cv2.bitwise_and(frame, frame, mask=fmask)\n",
    "\n",
    "    cv2.imshow(\"org\", frame)\n",
    "    cv2.imshow(\"fg\", fmask)\n",
    "    cv2.imshow(\"com\", com)\n",
    "    \n",
    "    if (cv2.waitKey(1) & 0xFF == ord('q')):\n",
    "        break\n",
    "\n",
    "cap.release()\n",
    "cv2.destroyAllWindows()"
   ]
  }
 ],
 "metadata": {
  "kernelspec": {
   "display_name": "Python 3 (ipykernel)",
   "language": "python",
   "name": "python3"
  },
  "language_info": {
   "codemirror_mode": {
    "name": "ipython",
    "version": 3
   },
   "file_extension": ".py",
   "mimetype": "text/x-python",
   "name": "python",
   "nbconvert_exporter": "python",
   "pygments_lexer": "ipython3",
   "version": "3.12.7"
  }
 },
 "nbformat": 4,
 "nbformat_minor": 5
}
