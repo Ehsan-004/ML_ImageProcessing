{
 "cells": [
  {
   "cell_type": "code",
   "execution_count": 2,
   "id": "898371be-9880-45a2-b6a7-4e6b5bc5693f",
   "metadata": {},
   "outputs": [],
   "source": [
    "import cv2\n",
    "import numpy as np"
   ]
  },
  {
   "cell_type": "code",
   "execution_count": 5,
   "id": "f909830b-721a-4e86-b347-10fcf0bb8f29",
   "metadata": {},
   "outputs": [],
   "source": [
    "faceXML = cv2.CascadeClassifier('hardCascading/haarcascade_frontalface_default.xml')\n",
    "eyeXML = cv2.CascadeClassifier('hardCascading/haarcascade_eye.xml')\n",
    "smileXML = cv2.CascadeClassifier('hardCascading/haarcascade_smile.xml')"
   ]
  },
  {
   "cell_type": "code",
   "execution_count": 17,
   "id": "cbba310d-c20c-4ca1-b9f2-4fbe88662f41",
   "metadata": {},
   "outputs": [],
   "source": [
    "cap = cv2.VideoCapture(0)\n",
    "\n",
    "while True:\n",
    "    _, frame = cap.read()\n",
    "    gray_frame = cv2.cvtColor(frame, cv2.COLOR_BGR2GRAY)\n",
    "    faces = faceXML.detectMultiScale(gray_frame)\n",
    "\n",
    "    for x, y, w, h in faces:\n",
    "        cv2.rectangle(frame, (x,y), (x+w, y+h), (255, 255, 86), 2)\n",
    "\n",
    "        roi_gray = gray_frame[y:y+h, x:x+w]\n",
    "        roi_color = frame[y:y+h, x:x+w]\n",
    "        eyes = eyeXML.detectMultiScale(roi_gray)\n",
    "        \n",
    "        for (eye_x, eye_y, eye_w, eye_h) in eyes:\n",
    "            cv2.rectangle(roi_color, (eye_x, eye_y), (eye_x+eye_w, eye_y+eye_h), (55, 115, 163), 2)\n",
    "\n",
    "        smiles = smileXML.detectMultiScale(roi_gray)\n",
    "        for (sx, sy, sw, sh) in smiles:\n",
    "            cv2.rectangle(roi_color, (sx, sy), (sx+sw, sy+sh), (52, 166, 83), 2)\n",
    "\n",
    "    frame = cv2.flip(frame, 1)\n",
    "    cv2.imshow('faces', frame)\n",
    "            \n",
    "\n",
    "    if (cv2.waitKey(1) & 0xFF == ord('q')):\n",
    "        break\n",
    "\n",
    "cap.release()\n",
    "cv2.destroyAllWindows()"
   ]
  }
 ],
 "metadata": {
  "kernelspec": {
   "display_name": "Python 3 (ipykernel)",
   "language": "python",
   "name": "python3"
  },
  "language_info": {
   "codemirror_mode": {
    "name": "ipython",
    "version": 3
   },
   "file_extension": ".py",
   "mimetype": "text/x-python",
   "name": "python",
   "nbconvert_exporter": "python",
   "pygments_lexer": "ipython3",
   "version": "3.12.7"
  }
 },
 "nbformat": 4,
 "nbformat_minor": 5
}
